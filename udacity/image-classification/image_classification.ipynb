{
 "cells": [
  {
   "cell_type": "markdown",
   "metadata": {
    "collapsed": true
   },
   "source": [
    "# Image Classification\n",
    "In this project, you'll classify images from the [CIFAR-10 dataset](https://www.cs.toronto.edu/~kriz/cifar.html).  The dataset consists of airplanes, dogs, cats, and other objects. You'll preprocess the images, then train a convolutional neural network on all the samples. The images need to be normalized and the labels need to be one-hot encoded.  You'll get to apply what you learned and build a convolutional, max pooling, dropout, and fully connected layers.  At the end, you'll get to see your neural network's predictions on the sample images.\n",
    "## Get the Data\n",
    "Run the following cell to download the [CIFAR-10 dataset for python](https://www.cs.toronto.edu/~kriz/cifar-10-python.tar.gz)."
   ]
  },
  {
   "cell_type": "code",
   "execution_count": 3,
   "metadata": {
    "collapsed": false
   },
   "outputs": [
    {
     "name": "stdout",
     "output_type": "stream",
     "text": [
      "All files found!\n"
     ]
    }
   ],
   "source": [
    "\"\"\"\n",
    "DON'T MODIFY ANYTHING IN THIS CELL THAT IS BELOW THIS LINE\n",
    "\"\"\"\n",
    "from urllib.request import urlretrieve\n",
    "from os.path import isfile, isdir\n",
    "from tqdm import tqdm\n",
    "import problem_unittests as tests\n",
    "import tarfile\n",
    "\n",
    "cifar10_dataset_folder_path = 'cifar-10-batches-py'\n",
    "\n",
    "class DLProgress(tqdm):\n",
    "    last_block = 0\n",
    "\n",
    "    def hook(self, block_num=1, block_size=1, total_size=None):\n",
    "        self.total = total_size\n",
    "        self.update((block_num - self.last_block) * block_size)\n",
    "        self.last_block = block_num\n",
    "\n",
    "if not isfile('cifar-10-python.tar.gz'):\n",
    "    with DLProgress(unit='B', unit_scale=True, miniters=1, desc='CIFAR-10 Dataset') as pbar:\n",
    "        urlretrieve(\n",
    "            'https://www.cs.toronto.edu/~kriz/cifar-10-python.tar.gz',\n",
    "            'cifar-10-python.tar.gz',\n",
    "            pbar.hook)\n",
    "\n",
    "if not isdir(cifar10_dataset_folder_path):\n",
    "    with tarfile.open('cifar-10-python.tar.gz') as tar:\n",
    "        tar.extractall()\n",
    "        tar.close()\n",
    "\n",
    "\n",
    "tests.test_folder_path(cifar10_dataset_folder_path)"
   ]
  },
  {
   "cell_type": "markdown",
   "metadata": {},
   "source": [
    "## Explore the Data\n",
    "The dataset is broken into batches to prevent your machine from running out of memory.  The CIFAR-10 dataset consists of 5 batches, named `data_batch_1`, `data_batch_2`, etc.. Each batch contains the labels and images that are one of the following:\n",
    "* airplane\n",
    "* automobile\n",
    "* bird\n",
    "* cat\n",
    "* deer\n",
    "* dog\n",
    "* frog\n",
    "* horse\n",
    "* ship\n",
    "* truck\n",
    "\n",
    "Understanding a dataset is part of making predictions on the data.  Play around with the code cell below by changing the `batch_id` and `sample_id`. The `batch_id` is the id for a batch (1-5). The `sample_id` is the id for a image and label pair in the batch.\n",
    "\n",
    "Ask yourself \"What are all possible labels?\", \"What is the range of values for the image data?\", \"Are the labels in order or random?\".  Answers to questions like these will help you preprocess the data and end up with better predictions."
   ]
  },
  {
   "cell_type": "code",
   "execution_count": 4,
   "metadata": {
    "collapsed": false
   },
   "outputs": [
    {
     "name": "stdout",
     "output_type": "stream",
     "text": [
      "\n",
      "Stats of batch 1:\n",
      "Samples: 10000\n",
      "Label Counts: {0: 1005, 1: 974, 2: 1032, 3: 1016, 4: 999, 5: 937, 6: 1030, 7: 1001, 8: 1025, 9: 981}\n",
      "First 20 Labels: [6, 9, 9, 4, 1, 1, 2, 7, 8, 3, 4, 7, 7, 2, 9, 9, 9, 3, 2, 6]\n",
      "\n",
      "Example of Image 5:\n",
      "Image - Min Value: 0 Max Value: 252\n",
      "Image - Shape: (32, 32, 3)\n",
      "Label - Label Id: 1 Name: automobile\n"
     ]
    },
    {
     "data": {
      "image/png": "[encoded data removed]",
      "text/plain": [
       "<matplotlib.figure.Figure at 0x107f390f0>"
      ]
     },
     "metadata": {
      "image/png": {
       "height": 250,
       "width": 253
      }
     },
     "output_type": "display_data"
    }
   ],
   "source": [
    "%matplotlib inline\n",
    "%config InlineBackend.figure_format = 'retina'\n",
    "\n",
    "import helper\n",
    "import numpy as np\n",
    "\n",
    "# Explore the dataset\n",
    "batch_id = 1\n",
    "sample_id = 5\n",
    "helper.display_stats(cifar10_dataset_folder_path, batch_id, sample_id)"
   ]
  },
  {
   "cell_type": "markdown",
   "metadata": {},
   "source": [
    "## Implement Preprocess Functions\n",
    "### Normalize\n",
    "In the cell below, implement the `normalize` function to take in image data, `x`, and return it as a normalized Numpy array. The values should be in the range of 0 to 1, inclusive.  The return object should be the same shape as `x`."
   ]
  },
  {
   "cell_type": "code",
   "execution_count": 5,
   "metadata": {
    "collapsed": false
   },
   "outputs": [
    {
     "name": "stdout",
     "output_type": "stream",
     "text": [
      "Tests Passed\n"
     ]
    }
   ],
   "source": [
    "def normalize(x):\n",
    "    \"\"\"\n",
    "    Normalize a list of sample image data in the range of 0 to 1\n",
    "    : x: List of image data.  The image shape is (32, 32, 3)\n",
    "    : return: Numpy array of normalize data\n",
    "    \"\"\"\n",
    "    # TODO: Implement Function\n",
    "\n",
    "    x=x/255\n",
    "    x = x.reshape(-1,32,32,3)\n",
    "    return x\n",
    "\n",
    "\n",
    "\"\"\"\n",
    "DON'T MODIFY ANYTHING IN THIS CELL THAT IS BELOW THIS LINE\n",
    "\"\"\"\n",
    "tests.test_normalize(normalize)"
   ]
  },
  {
   "cell_type": "markdown",
   "metadata": {},
   "source": [
    "### One-hot encode\n",
    "Just like the previous code cell, you'll be implementing a function for preprocessing.  This time, you'll implement the `one_hot_encode` function. The input, `x`, are a list of labels.  Implement the function to return the list of labels as One-Hot encoded Numpy array.  The possible values for labels are 0 to 9. The one-hot encoding function should return the same encoding for each value between each call to `one_hot_encode`.  Make sure to save the map of encodings outside the function.\n",
    "\n",
    "**Hint:**\n",
    "\n",
    "Look into LabelBinarizer in the preprocessing module of sklearn."
   ]
  },
  {
   "cell_type": "code",
   "execution_count": 6,
   "metadata": {
    "collapsed": false
   },
   "outputs": [
    {
     "name": "stdout",
     "output_type": "stream",
     "text": [
      "Tests Passed\n"
     ]
    }
   ],
   "source": [
    "from sklearn.preprocessing import LabelBinarizer\n",
    "\n",
    "import numpy as np\n",
    "lb = LabelBinarizer()\n",
    "lb.fit([0,1,2,3,4,5,6,7,8,9])\n",
    "\n",
    "def one_hot_encode(x):\n",
    "    \"\"\"\n",
    "    One hot encode a list of sample labels. Return a one-hot encoded vector for each label.\n",
    "    : x: List of sample Labels\n",
    "    : return: Numpy array of one-hot encoded labels\n",
    "    \"\"\"\n",
    "    return lb.transform(x)\n",
    "\n",
    "\n",
    "\"\"\"\n",
    "DON'T MODIFY ANYTHING IN THIS CELL THAT IS BELOW THIS LINE\n",
    "\"\"\"\n",
    "tests.test_one_hot_encode(one_hot_encode)"
   ]
  },
  {
   "cell_type": "markdown",
   "metadata": {},
   "source": [
    "### Randomize Data\n",
    "As you saw from exploring the data above, the order of the samples are randomized.  It doesn't hurt to randomize it again, but you don't need to for this dataset."
   ]
  },
  {
   "cell_type": "markdown",
   "metadata": {},
   "source": [
    "## Preprocess all the data and save it\n",
    "Running the code cell below will preprocess all the CIFAR-10 data and save it to file. The code below also uses 10% of the training data for validation."
   ]
  },
  {
   "cell_type": "code",
   "execution_count": 7,
   "metadata": {
    "collapsed": false
   },
   "outputs": [],
   "source": [
    "\"\"\"\n",
    "DON'T MODIFY ANYTHING IN THIS CELL\n",
    "\"\"\"\n",
    "# Preprocess Training, Validation, and Testing Data\n",
    "helper.preprocess_and_save_data(cifar10_dataset_folder_path, normalize, one_hot_encode)"
   ]
  },
  {
   "cell_type": "markdown",
   "metadata": {},
   "source": [
    "# Check Point\n",
    "This is your first checkpoint.  If you ever decide to come back to this notebook or have to restart the notebook, you can start from here.  The preprocessed data has been saved to disk."
   ]
  },
  {
   "cell_type": "code",
   "execution_count": 30,
   "metadata": {
    "collapsed": false
   },
   "outputs": [],
   "source": [
    "\"\"\"\n",
    "DON'T MODIFY ANYTHING IN THIS CELL\n",
    "\"\"\"\n",
    "import pickle\n",
    "import problem_unittests as tests\n",
    "import helper\n",
    "\n",
    "# Load the Preprocessed Validation data\n",
    "valid_features, valid_labels = pickle.load(open('preprocess_validation.p', mode='rb'))"
   ]
  },
  {
   "cell_type": "markdown",
   "metadata": {},
   "source": [
    "## Build the network\n",
    "For the neural network, you'll build each layer into a function.  Most of the code you've seen has been outside of functions. To test your code more thoroughly, we require that you put each layer in a function.  This allows us to give you better feedback and test for simple mistakes using our unittests before you submit your project.\n",
    "\n",
    ">**Note:** If you're finding it hard to dedicate enough time for this course each week, we've provided a small shortcut to this part of the project. In the next couple of problems, you'll have the option to use classes from the [TensorFlow Layers](https://www.tensorflow.org/api_docs/python/tf/layers) or [TensorFlow Layers (contrib)](https://www.tensorflow.org/api_guides/python/contrib.layers) packages to build each layer, except the layers you build in the \"Convolutional and Max Pooling Layer\" section.  TF Layers is similar to Keras's and TFLearn's abstraction to layers, so it's easy to pickup.\n",
    "\n",
    ">However, if you would like to get the most out of this course, try to solve all the problems _without_ using anything from the TF Layers packages. You **can** still use classes from other packages that happen to have the same name as ones you find in TF Layers! For example, instead of using the TF Layers version of the `conv2d` class, [tf.layers.conv2d](https://www.tensorflow.org/api_docs/python/tf/layers/conv2d), you would want to use the TF Neural Network version of `conv2d`, [tf.nn.conv2d](https://www.tensorflow.org/api_docs/python/tf/nn/conv2d). \n",
    "\n",
    "Let's begin!\n",
    "\n",
    "### Input\n",
    "The neural network needs to read the image data, one-hot encoded labels, and dropout keep probability. Implement the following functions\n",
    "* Implement `neural_net_image_input`\n",
    " * Return a [TF Placeholder](https://www.tensorflow.org/api_docs/python/tf/placeholder)\n",
    " * Set the shape using `image_shape` with batch size set to `None`.\n",
    " * Name the TensorFlow placeholder \"x\" using the TensorFlow `name` parameter in the [TF Placeholder](https://www.tensorflow.org/api_docs/python/tf/placeholder).\n",
    "* Implement `neural_net_label_input`\n",
    " * Return a [TF Placeholder](https://www.tensorflow.org/api_docs/python/tf/placeholder)\n",
    " * Set the shape using `n_classes` with batch size set to `None`.\n",
    " * Name the TensorFlow placeholder \"y\" using the TensorFlow `name` parameter in the [TF Placeholder](https://www.tensorflow.org/api_docs/python/tf/placeholder).\n",
    "* Implement `neural_net_keep_prob_input`\n",
    " * Return a [TF Placeholder](https://www.tensorflow.org/api_docs/python/tf/placeholder) for dropout keep probability.\n",
    " * Name the TensorFlow placeholder \"keep_prob\" using the TensorFlow `name` parameter in the [TF Placeholder](https://www.tensorflow.org/api_docs/python/tf/placeholder).\n",
    "\n",
    "These names will be used at the end of the project to load your saved model.\n",
    "\n",
    "Note: `None` for shapes in TensorFlow allow for a dynamic size."
   ]
  },
  {
   "cell_type": "code",
   "execution_count": 31,
   "metadata": {
    "collapsed": false
   },
   "outputs": [
    {
     "name": "stdout",
     "output_type": "stream",
     "text": [
      "Image Input Tests Passed.\n",
      "Label Input Tests Passed.\n",
      "Keep Prob Tests Passed.\n"
     ]
    }
   ],
   "source": [
    "import tensorflow as tf\n",
    "\n",
    "def neural_net_image_input(image_shape):\n",
    "    \"\"\"\n",
    "    Return a Tensor for a batch of image input\n",
    "    : image_shape: Shape of the images\n",
    "    : return: Tensor for image input.\n",
    "    \"\"\"\n",
    "    # TODO: Implement Function\n",
    "    return tf.placeholder(tf.float32,shape=[None,image_shape[0],image_shape[1],image_shape[2]],name='x')\n",
    "\n",
    "\n",
    "def neural_net_label_input(n_classes):\n",
    "    \"\"\"\n",
    "    Return a Tensor for a batch of label input\n",
    "    : n_classes: Number of classes\n",
    "    : return: Tensor for label input.\n",
    "    \"\"\"\n",
    "    # TODO: Implement Function\n",
    "    return tf.placeholder(tf.float32,shape=[None, n_classes],name='y')\n",
    "\n",
    "\n",
    "def neural_net_keep_prob_input():\n",
    "    \"\"\"\n",
    "    Return a Tensor for keep probability\n",
    "    : return: Tensor for keep probability.\n",
    "    \"\"\"\n",
    "    # TODO: Implement Function\n",
    "    return  tf.placeholder(tf.float32,name='keep_prob')\n",
    "\n",
    "\n",
    "\"\"\"\n",
    "DON'T MODIFY ANYTHING IN THIS CELL THAT IS BELOW THIS LINE\n",
    "\"\"\"\n",
    "tf.reset_default_graph()\n",
    "tests.test_nn_image_inputs(neural_net_image_input)\n",
    "tests.test_nn_label_inputs(neural_net_label_input)\n",
    "tests.test_nn_keep_prob_inputs(neural_net_keep_prob_input)"
   ]
  },
  {
   "cell_type": "markdown",
   "metadata": {},
   "source": [
    "### Convolution and Max Pooling Layer\n",
    "Convolution layers have a lot of success with images. For this code cell, you should implement the function `conv2d_maxpool` to apply convolution then max pooling:\n",
    "* Create the weight and bias using `conv_ksize`, `conv_num_outputs` and the shape of `x_tensor`.\n",
    "* Apply a convolution to `x_tensor` using weight and `conv_strides`.\n",
    " * We recommend you use same padding, but you're welcome to use any padding.\n",
    "* Add bias\n",
    "* Add a nonlinear activation to the convolution.\n",
    "* Apply Max Pooling using `pool_ksize` and `pool_strides`.\n",
    " * We recommend you use same padding, but you're welcome to use any padding.\n",
    "\n",
    "**Note:** You **can't** use [TensorFlow Layers](https://www.tensorflow.org/api_docs/python/tf/layers) or [TensorFlow Layers (contrib)](https://www.tensorflow.org/api_guides/python/contrib.layers) for **this** layer, but you can still use TensorFlow's [Neural Network](https://www.tensorflow.org/api_docs/python/tf/nn) package. You may still use the shortcut option for all the **other** layers.\n",
    "\n",
    "** Hint: **\n",
    "\n",
    "When unpacking values as an argument in Python, look into the [unpacking](https://docs.python.org/3/tutorial/controlflow.html#unpacking-argument-lists) operator. "
   ]
  },
  {
   "cell_type": "code",
   "execution_count": 32,
   "metadata": {
    "collapsed": false
   },
   "outputs": [
    {
     "name": "stdout",
     "output_type": "stream",
     "text": [
      "Tests Passed\n"
     ]
    }
   ],
   "source": [
    "def conv2d_maxpool(x_tensor, conv_num_outputs, conv_ksize, conv_strides, pool_ksize, pool_strides):\n",
    "    \"\"\"\n",
    "    Apply convolution then max pooling to x_tensor\n",
    "    :param x_tensor: TensorFlow Tensor\n",
    "    :param conv_num_outputs: Number of outputs for the convolutional layer\n",
    "    :param conv_ksize: kernal size 2-D Tuple for the convolutional layer\n",
    "    :param conv_strides: Stride 2-D Tuple for convolution\n",
    "    :param pool_ksize: kernal size 2-D Tuple for pool\n",
    "    :param pool_strides: Stride 2-D Tuple for pool\n",
    "    : return: A tensor that represents convolution and max pooling of x_tensor\n",
    "    \"\"\"\n",
    "    # TODO: Implement Function\n",
    "    tensor_shape = x_tensor.get_shape().as_list()\n",
    "    filter_weights = tf.Variable(tf.truncated_normal([conv_ksize[0], conv_ksize[1], tensor_shape[3], conv_num_outputs],stddev=0.1))\n",
    "    filter_bias = tf.Variable(tf.zeros(conv_num_outputs))\n",
    "    strides = (1,)+conv_strides+(1,) # (batch, height, width, depth)\n",
    "    padding = 'SAME'\n",
    "    conv = tf.nn.conv2d(x_tensor, filter_weights, strides, padding)# + filter_bias\n",
    "    conv = tf.nn.bias_add(conv, filter_bias)\n",
    "    relu = tf.nn.relu(conv)\n",
    "#     # Apply Max Pooling\n",
    "    max_pool = tf.nn.max_pool(\n",
    "        relu,\n",
    "        ksize=(1,)+pool_ksize+(1,),\n",
    "        strides=(1,)+pool_strides+(1,),\n",
    "        padding='SAME')\n",
    "    return max_pool \n",
    "\n",
    "\n",
    "\"\"\"\n",
    "DON'T MODIFY ANYTHING IN THIS CELL THAT IS BELOW THIS LINE\n",
    "\"\"\"\n",
    "tests.test_con_pool(conv2d_maxpool)"
   ]
  },
  {
   "cell_type": "markdown",
   "metadata": {},
   "source": [
    "### Flatten Layer\n",
    "Implement the `flatten` function to change the dimension of `x_tensor` from a 4-D tensor to a 2-D tensor.  The output should be the shape (*Batch Size*, *Flattened Image Size*). Shortcut option: you can use classes from the [TensorFlow Layers](https://www.tensorflow.org/api_docs/python/tf/layers) or [TensorFlow Layers (contrib)](https://www.tensorflow.org/api_guides/python/contrib.layers) packages for this layer. For more of a challenge, only use other TensorFlow packages."
   ]
  },
  {
   "cell_type": "code",
   "execution_count": 33,
   "metadata": {
    "collapsed": false
   },
   "outputs": [
    {
     "name": "stdout",
     "output_type": "stream",
     "text": [
      "Tests Passed\n"
     ]
    }
   ],
   "source": [
    "def flatten(x_tensor):\n",
    "    \"\"\"\n",
    "    Flatten x_tensor to (Batch Size, Flattened Image Size)\n",
    "    : x_tensor: A tensor of size (Batch Size, ...), where ... are the image dimensions.\n",
    "    : return: A tensor of size (Batch Size, Flattened Image Size).\n",
    "    \"\"\"\n",
    "    # TODO: Implement Function\n",
    "    return tf.contrib.layers.flatten(x_tensor)\n",
    "\n",
    "\n",
    "\"\"\"\n",
    "DON'T MODIFY ANYTHING IN THIS CELL THAT IS BELOW THIS LINE\n",
    "\"\"\"\n",
    "tests.test_flatten(flatten)"
   ]
  },
  {
   "cell_type": "markdown",
   "metadata": {},
   "source": [
    "### Fully-Connected Layer\n",
    "Implement the `fully_conn` function to apply a fully connected layer to `x_tensor` with the shape (*Batch Size*, *num_outputs*). Shortcut option: you can use classes from the [TensorFlow Layers](https://www.tensorflow.org/api_docs/python/tf/layers) or [TensorFlow Layers (contrib)](https://www.tensorflow.org/api_guides/python/contrib.layers) packages for this layer. For more of a challenge, only use other TensorFlow packages."
   ]
  },
  {
   "cell_type": "code",
   "execution_count": 34,
   "metadata": {
    "collapsed": false
   },
   "outputs": [
    {
     "name": "stdout",
     "output_type": "stream",
     "text": [
      "Tests Passed\n"
     ]
    }
   ],
   "source": [
    "def fully_conn(x_tensor, num_outputs):\n",
    "    \"\"\"\n",
    "    Apply a fully connected layer to x_tensor using weight and bias\n",
    "    : x_tensor: A 2-D tensor where the first dimension is batch size.\n",
    "    : num_outputs: The number of output that the new tensor should be.\n",
    "    : return: A 2-D tensor where the second dimension is num_outputs.\n",
    "    \"\"\"\n",
    "    # TODO: Implement Function\n",
    "\n",
    "    return tf.contrib.layers.fully_connected(x_tensor,num_outputs,activation_fn=tf.nn.relu)\n",
    "\n",
    "\n",
    "\"\"\"\n",
    "DON'T MODIFY ANYTHING IN THIS CELL THAT IS BELOW THIS LINE\n",
    "\"\"\"\n",
    "tests.test_fully_conn(fully_conn)"
   ]
  },
  {
   "cell_type": "markdown",
   "metadata": {},
   "source": [
    "### Output Layer\n",
    "Implement the `output` function to apply a fully connected layer to `x_tensor` with the shape (*Batch Size*, *num_outputs*). Shortcut option: you can use classes from the [TensorFlow Layers](https://www.tensorflow.org/api_docs/python/tf/layers) or [TensorFlow Layers (contrib)](https://www.tensorflow.org/api_guides/python/contrib.layers) packages for this layer. For more of a challenge, only use other TensorFlow packages.\n",
    "\n",
    "**Note:** Activation, softmax, or cross entropy should **not** be applied to this."
   ]
  },
  {
   "cell_type": "code",
   "execution_count": 35,
   "metadata": {
    "collapsed": false
   },
   "outputs": [
    {
     "name": "stdout",
     "output_type": "stream",
     "text": [
      "Tests Passed\n"
     ]
    }
   ],
   "source": [
    "def output(x_tensor, num_outputs):\n",
    "    \"\"\"\n",
    "    Apply a output layer to x_tensor using weight and bias\n",
    "    : x_tensor: A 2-D tensor where the first dimension is batch size.\n",
    "    : num_outputs: The number of output that the new tensor should be.\n",
    "    : return: A 2-D tensor where the second dimension is num_outputs.\n",
    "    \"\"\"\n",
    "    # TODO: Implement Function\n",
    "\n",
    "    return tf.contrib.layers.fully_connected(x_tensor,num_outputs,activation_fn=None)\n",
    "\n",
    "\n",
    "\"\"\"\n",
    "DON'T MODIFY ANYTHING IN THIS CELL THAT IS BELOW THIS LINE\n",
    "\"\"\"\n",
    "tests.test_output(output)"
   ]
  },
  {
   "cell_type": "markdown",
   "metadata": {},
   "source": [
    "### Create Convolutional Model\n",
    "Implement the function `conv_net` to create a convolutional neural network model. The function takes in a batch of images, `x`, and outputs logits.  Use the layers you created above to create this model:\n",
    "\n",
    "* Apply 1, 2, or 3 Convolution and Max Pool layers\n",
    "* Apply a Flatten Layer\n",
    "* Apply 1, 2, or 3 Fully Connected Layers\n",
    "* Apply an Output Layer\n",
    "* Return the output\n",
    "* Apply [TensorFlow's Dropout](https://www.tensorflow.org/api_docs/python/tf/nn/dropout) to one or more layers in the model using `keep_prob`. "
   ]
  },
  {
   "cell_type": "code",
   "execution_count": 36,
   "metadata": {
    "collapsed": false
   },
   "outputs": [
    {
     "name": "stdout",
     "output_type": "stream",
     "text": [
      "Tensor(\"x:0\", shape=(?, 32, 32, 3), dtype=float32) Tensor(\"keep_prob:0\", dtype=float32)\n",
      "Tensor(\"Placeholder:0\", shape=(?, 32, 32, 3), dtype=float32) Tensor(\"Placeholder_1:0\", dtype=float32)\n",
      "Neural Network Built!\n"
     ]
    }
   ],
   "source": [
    "def conv_net(x, keep_prob):\n",
    "    \"\"\"\n",
    "    Create a convolutional neural network model\n",
    "    : x: Placeholder tensor that holds image data.\n",
    "    : keep_prob: Placeholder tensor that hold dropout keep probability.\n",
    "    : return: Tensor that represents logits\n",
    "    \"\"\"\n",
    "    # TODO: Apply 1, 2, or 3 Convolution and Max Pool layers\n",
    "    #    Play around with different number of outputs, kernel size and stride\n",
    "    # Function Definition from Above:\n",
    "    print(x, keep_prob)\n",
    "#     x_tensor = x\n",
    "#     conv_num_outputs = 15\n",
    "#     conv_ksize = (6, 6)\n",
    "#     conv_strides = (1, 1)\n",
    "#     pool_ksize = (8, 8) \n",
    "#     pool_strides = (1, 1)\n",
    "#     num_outputs = 50\n",
    "    n_classes = 10\n",
    "    num_outputs = 612\n",
    "\n",
    "    model = conv2d_maxpool(x_tensor=x, \n",
    "                           conv_num_outputs=35, \n",
    "                           conv_ksize=(3, 3), \n",
    "                           conv_strides=(1, 1), \n",
    "                           pool_ksize=(2, 2),\n",
    "                           pool_strides=(1, 1))\n",
    "    model = conv2d_maxpool(x_tensor=model, \n",
    "                           conv_num_outputs=70, \n",
    "                           conv_ksize=(3, 3), \n",
    "                           conv_strides=(1, 1), \n",
    "                           pool_ksize=(2, 2),\n",
    "                           pool_strides=(1, 1))  \n",
    "    \n",
    "#     model = tf.nn.dropout(model,keep_prob)\n",
    "\n",
    "    # TODO: Apply a Flatten Layer\n",
    "    # Function Definition from Above:\n",
    "    model =  flatten(model)\n",
    "    \n",
    "\n",
    "    # TODO: Apply 1, 2, or 3 Fully Connected Layers\n",
    "    #    Play around with different number of outputs\n",
    "    # Function Definition from Above:\n",
    "    model = fully_conn(model, num_outputs)\n",
    "    model = tf.nn.dropout(model, keep_prob)    \n",
    "#     model = fully_conn(model, num_outputs)    \n",
    "#     model = tf.nn.dropout(model, keep_prob)\n",
    "    \n",
    "    # TODO: Apply an Output Layer\n",
    "    #    Set this to the number of classes\n",
    "    # Function Definition from Above:\n",
    "    out = output(model, n_classes)\n",
    "    \n",
    "    # TODO: return output\n",
    "    return out\n",
    "\n",
    "\n",
    "\"\"\"\n",
    "DON'T MODIFY ANYTHING IN THIS CELL THAT IS BELOW THIS LINE\n",
    "\"\"\"\n",
    "\n",
    "##############################\n",
    "## Build the Neural Network ##\n",
    "##############################\n",
    "\n",
    "# Remove previous weights, bias, inputs, etc..\n",
    "tf.reset_default_graph()\n",
    "\n",
    "# Inputs\n",
    "x = neural_net_image_input((32, 32, 3))\n",
    "y = neural_net_label_input(10)\n",
    "keep_prob = neural_net_keep_prob_input()\n",
    "\n",
    "# Model\n",
    "logits = conv_net(x, keep_prob)\n",
    "\n",
    "# Name logits Tensor, so that is can be loaded from disk after training\n",
    "logits = tf.identity(logits, name='logits')\n",
    "\n",
    "# Loss and Optimizer\n",
    "cost = tf.reduce_mean(tf.nn.softmax_cross_entropy_with_logits(logits=logits, labels=y))\n",
    "optimizer = tf.train.AdamOptimizer().minimize(cost)\n",
    "\n",
    "# Accuracy\n",
    "correct_pred = tf.equal(tf.argmax(logits, 1), tf.argmax(y, 1))\n",
    "accuracy = tf.reduce_mean(tf.cast(correct_pred, tf.float32), name='accuracy')\n",
    "\n",
    "tests.test_conv_net(conv_net)"
   ]
  },
  {
   "cell_type": "markdown",
   "metadata": {},
   "source": [
    "## Train the Neural Network\n",
    "### Single Optimization\n",
    "Implement the function `train_neural_network` to do a single optimization.  The optimization should use `optimizer` to optimize in `session` with a `feed_dict` of the following:\n",
    "* `x` for image input\n",
    "* `y` for labels\n",
    "* `keep_prob` for keep probability for dropout\n",
    "\n",
    "This function will be called for each batch, so `tf.global_variables_initializer()` has already been called.\n",
    "\n",
    "Note: Nothing needs to be returned. This function is only optimizing the neural network."
   ]
  },
  {
   "cell_type": "code",
   "execution_count": 37,
   "metadata": {
    "collapsed": false
   },
   "outputs": [
    {
     "name": "stdout",
     "output_type": "stream",
     "text": [
      "Tests Passed\n"
     ]
    }
   ],
   "source": [
    "def train_neural_network(session, optimizer, keep_probability, feature_batch, label_batch):\n",
    "    \"\"\"\n",
    "    Optimize the session on a batch of images and labels\n",
    "    : session: Current TensorFlow session\n",
    "    : optimizer: TensorFlow optimizer function\n",
    "    : keep_probability: keep probability\n",
    "    : feature_batch: Batch of Numpy image data\n",
    "    : label_batch: Batch of Numpy label data\n",
    "    \"\"\"\n",
    "    # TODO: Implement Function\n",
    "    # Model\n",
    "    return session.run(optimizer,feed_dict={x:feature_batch,y:label_batch,keep_prob:keep_probability})\n",
    "\n",
    "\n",
    "\"\"\"\n",
    "DON'T MODIFY ANYTHING IN THIS CELL THAT IS BELOW THIS LINE\n",
    "\"\"\"\n",
    "tests.test_train_nn(train_neural_network)"
   ]
  },
  {
   "cell_type": "markdown",
   "metadata": {},
   "source": [
    "### Show Stats\n",
    "Implement the function `print_stats` to print loss and validation accuracy.  Use the global variables `valid_features` and `valid_labels` to calculate validation accuracy.  Use a keep probability of `1.0` to calculate the loss and validation accuracy."
   ]
  },
  {
   "cell_type": "code",
   "execution_count": 38,
   "metadata": {
    "collapsed": false
   },
   "outputs": [],
   "source": [
    "def print_stats(session, feature_batch, label_batch, cost, accuracy):\n",
    "    \"\"\"\n",
    "    Print information about loss and validation accuracy\n",
    "    : session: Current TensorFlow session\n",
    "    : feature_batch: Batch of Numpy image data\n",
    "    : label_batch: Batch of Numpy label data\n",
    "    : cost: TensorFlow cost function\n",
    "    : accuracy: TensorFlow accuracy function\n",
    "    \"\"\"\n",
    "    # TODO: Implement Function\n",
    "\n",
    "    loss = sess.run(cost, feed_dict={\n",
    "        x: feature_batch,\n",
    "        y: label_batch,\n",
    "        keep_prob: 1.})\n",
    "\n",
    "    test_acc = session.run(accuracy, feed_dict={\n",
    "        x: valid_features,\n",
    "        y: valid_labels,\n",
    "        keep_prob: 1.})\n",
    "    print(\"Loss: {}, Accuracy: {}\".format(loss,test_acc))"
   ]
  },
  {
   "cell_type": "markdown",
   "metadata": {},
   "source": [
    "### Hyperparameters\n",
    "Tune the following parameters:\n",
    "* Set `epochs` to the number of iterations until the network stops learning or start overfitting\n",
    "* Set `batch_size` to the highest number that your machine has memory for.  Most people set them to common sizes of memory:\n",
    " * 64\n",
    " * 128\n",
    " * 256\n",
    " * ...\n",
    "* Set `keep_probability` to the probability of keeping a node using dropout"
   ]
  },
  {
   "cell_type": "code",
   "execution_count": 39,
   "metadata": {
    "collapsed": true
   },
   "outputs": [],
   "source": [
    "# TODO: Tune Parameters\n",
    "epochs = 25\n",
    "batch_size = 512\n",
    "keep_probability = 0.55"
   ]
  },
  {
   "cell_type": "markdown",
   "metadata": {},
   "source": [
    "### Train on a Single CIFAR-10 Batch\n",
    "Instead of training the neural network on all the CIFAR-10 batches of data, let's use a single batch. This should save time while you iterate on the model to get a better accuracy.  Once the final validation accuracy is 50% or greater, run the model on all the data in the next section."
   ]
  },
  {
   "cell_type": "code",
   "execution_count": 40,
   "metadata": {
    "collapsed": false
   },
   "outputs": [
    {
     "name": "stdout",
     "output_type": "stream",
     "text": [
      "Checking the Training on a Single Batch...\n",
      "Epoch  1, CIFAR-10 Batch 1:  Loss: 2.2527523040771484, Accuracy: 0.131400004029274\n",
      "Epoch  2, CIFAR-10 Batch 1:  Loss: 1.8083335161209106, Accuracy: 0.36739999055862427\n",
      "Epoch  3, CIFAR-10 Batch 1:  Loss: 1.5189615488052368, Accuracy: 0.44279998540878296\n",
      "Epoch  4, CIFAR-10 Batch 1:  Loss: 1.3299741744995117, Accuracy: 0.4659999907016754\n",
      "Epoch  5, CIFAR-10 Batch 1:  Loss: 1.2070484161376953, Accuracy: 0.48739999532699585\n",
      "Epoch  6, CIFAR-10 Batch 1:  Loss: 1.0343799591064453, Accuracy: 0.5148000121116638\n",
      "Epoch  7, CIFAR-10 Batch 1:  Loss: 0.9120737314224243, Accuracy: 0.5192000269889832\n",
      "Epoch  8, CIFAR-10 Batch 1:  Loss: 0.7822117805480957, Accuracy: 0.5333999991416931\n",
      "Epoch  9, CIFAR-10 Batch 1:  Loss: 0.6802154183387756, Accuracy: 0.5388000011444092\n",
      "Epoch 10, CIFAR-10 Batch 1:  Loss: 0.6162266135215759, Accuracy: 0.5351999998092651\n",
      "Epoch 11, CIFAR-10 Batch 1:  Loss: 0.4965664744377136, Accuracy: 0.5559999942779541\n",
      "Epoch 12, CIFAR-10 Batch 1:  Loss: 0.4459224343299866, Accuracy: 0.5594000220298767\n",
      "Epoch 13, CIFAR-10 Batch 1:  Loss: 0.39083191752433777, Accuracy: 0.5636000037193298\n",
      "Epoch 14, CIFAR-10 Batch 1:  Loss: 0.36227360367774963, Accuracy: 0.5681999921798706\n",
      "Epoch 15, CIFAR-10 Batch 1:  Loss: 0.29143112897872925, Accuracy: 0.5667999982833862\n",
      "Epoch 16, CIFAR-10 Batch 1:  Loss: 0.23538120090961456, Accuracy: 0.5802000164985657\n",
      "Epoch 17, CIFAR-10 Batch 1:  Loss: 0.2148500233888626, Accuracy: 0.569599986076355\n",
      "Epoch 18, CIFAR-10 Batch 1:  Loss: 0.23773670196533203, Accuracy: 0.5307999849319458\n",
      "Epoch 19, CIFAR-10 Batch 1:  Loss: 0.21125318109989166, Accuracy: 0.5424000024795532\n",
      "Epoch 20, CIFAR-10 Batch 1:  Loss: 0.1518600881099701, Accuracy: 0.5442000031471252\n",
      "Epoch 21, CIFAR-10 Batch 1:  Loss: 0.13008473813533783, Accuracy: 0.5514000058174133\n",
      "Epoch 22, CIFAR-10 Batch 1:  Loss: 0.0890485942363739, Accuracy: 0.5717999935150146\n",
      "Epoch 23, CIFAR-10 Batch 1:  Loss: 0.07103769481182098, Accuracy: 0.5684000253677368\n",
      "Epoch 24, CIFAR-10 Batch 1:  Loss: 0.067912757396698, Accuracy: 0.5651999711990356\n",
      "Epoch 25, CIFAR-10 Batch 1:  Loss: 0.05036989599466324, Accuracy: 0.5662000179290771\n"
     ]
    }
   ],
   "source": [
    "\"\"\"\n",
    "DON'T MODIFY ANYTHING IN THIS CELL\n",
    "\"\"\"\n",
    "print('Checking the Training on a Single Batch...')\n",
    "with tf.Session() as sess:\n",
    "    # Initializing the variables\n",
    "    sess.run(tf.global_variables_initializer())\n",
    "    \n",
    "    # Training cycle\n",
    "    for epoch in range(epochs):\n",
    "        batch_i = 1\n",
    "        for batch_features, batch_labels in helper.load_preprocess_training_batch(batch_i, batch_size):\n",
    "            train_neural_network(sess, optimizer, keep_probability, batch_features, batch_labels)\n",
    "        print('Epoch {:>2}, CIFAR-10 Batch {}:  '.format(epoch + 1, batch_i), end='')\n",
    "        print_stats(sess, batch_features, batch_labels, cost, accuracy)"
   ]
  },
  {
   "cell_type": "raw",
   "metadata": {},
   "source": [
    "### Fully Train the Model\n",
    "Now that you got a good accuracy with a single CIFAR-10 batch, try it with all five batches."
   ]
  },
  {
   "cell_type": "code",
   "execution_count": 41,
   "metadata": {
    "collapsed": false
   },
   "outputs": [
    {
     "name": "stdout",
     "output_type": "stream",
     "text": [
      "Training...\n",
      "Epoch  1, CIFAR-10 Batch 1:  Loss: 2.2355809211730957, Accuracy: 0.23659999668598175\n",
      "Epoch  1, CIFAR-10 Batch 2:  Loss: 1.701327919960022, Accuracy: 0.36419999599456787\n",
      "Epoch  1, CIFAR-10 Batch 3:  Loss: 1.464676856994629, Accuracy: 0.4259999990463257\n",
      "Epoch  1, CIFAR-10 Batch 4:  Loss: 1.4120845794677734, Accuracy: 0.4611999988555908\n",
      "Epoch  1, CIFAR-10 Batch 5:  Loss: 1.3775303363800049, Accuracy: 0.4796000123023987\n",
      "Epoch  2, CIFAR-10 Batch 1:  Loss: 1.4395214319229126, Accuracy: 0.49880000948905945\n",
      "Epoch  2, CIFAR-10 Batch 2:  Loss: 1.2657146453857422, Accuracy: 0.5123999714851379\n",
      "Epoch  2, CIFAR-10 Batch 3:  Loss: 1.0997015237808228, Accuracy: 0.5315999984741211\n",
      "Epoch  2, CIFAR-10 Batch 4:  Loss: 1.0993419885635376, Accuracy: 0.5461999773979187\n",
      "Epoch  2, CIFAR-10 Batch 5:  Loss: 1.0649417638778687, Accuracy: 0.5691999793052673\n",
      "Epoch  3, CIFAR-10 Batch 1:  Loss: 1.129347562789917, Accuracy: 0.5691999793052673\n",
      "Epoch  3, CIFAR-10 Batch 2:  Loss: 0.9912603497505188, Accuracy: 0.5830000042915344\n",
      "Epoch  3, CIFAR-10 Batch 3:  Loss: 0.8825978636741638, Accuracy: 0.5893999934196472\n",
      "Epoch  3, CIFAR-10 Batch 4:  Loss: 0.9005604386329651, Accuracy: 0.5914000272750854\n",
      "Epoch  3, CIFAR-10 Batch 5:  Loss: 0.849142849445343, Accuracy: 0.6122000217437744\n",
      "Epoch  4, CIFAR-10 Batch 1:  Loss: 0.9337403774261475, Accuracy: 0.6039999723434448\n",
      "Epoch  4, CIFAR-10 Batch 2:  Loss: 0.8446153998374939, Accuracy: 0.605400025844574\n",
      "Epoch  4, CIFAR-10 Batch 3:  Loss: 0.6950753927230835, Accuracy: 0.629800021648407\n",
      "Epoch  4, CIFAR-10 Batch 4:  Loss: 0.7407051920890808, Accuracy: 0.635200023651123\n",
      "Epoch  4, CIFAR-10 Batch 5:  Loss: 0.7135416269302368, Accuracy: 0.6309999823570251\n",
      "Epoch  5, CIFAR-10 Batch 1:  Loss: 0.7899762988090515, Accuracy: 0.6384000182151794\n",
      "Epoch  5, CIFAR-10 Batch 2:  Loss: 0.7209696173667908, Accuracy: 0.6177999973297119\n",
      "Epoch  5, CIFAR-10 Batch 3:  Loss: 0.594477653503418, Accuracy: 0.6485999822616577\n",
      "Epoch  5, CIFAR-10 Batch 4:  Loss: 0.6253525018692017, Accuracy: 0.649399995803833\n",
      "Epoch  5, CIFAR-10 Batch 5:  Loss: 0.5463476181030273, Accuracy: 0.6588000059127808\n",
      "Epoch  6, CIFAR-10 Batch 1:  Loss: 0.6267012357711792, Accuracy: 0.6552000045776367\n",
      "Epoch  6, CIFAR-10 Batch 2:  Loss: 0.5912830233573914, Accuracy: 0.6388000249862671\n",
      "Epoch  6, CIFAR-10 Batch 3:  Loss: 0.49358516931533813, Accuracy: 0.6588000059127808\n",
      "Epoch  6, CIFAR-10 Batch 4:  Loss: 0.5005388259887695, Accuracy: 0.6729999780654907\n",
      "Epoch  6, CIFAR-10 Batch 5:  Loss: 0.45843666791915894, Accuracy: 0.6664000153541565\n",
      "Epoch  7, CIFAR-10 Batch 1:  Loss: 0.5420064926147461, Accuracy: 0.6632000207901001\n",
      "Epoch  7, CIFAR-10 Batch 2:  Loss: 0.5001748204231262, Accuracy: 0.6425999999046326\n",
      "Epoch  7, CIFAR-10 Batch 3:  Loss: 0.3984364867210388, Accuracy: 0.6571999788284302\n",
      "Epoch  7, CIFAR-10 Batch 4:  Loss: 0.4735405445098877, Accuracy: 0.6567999720573425\n",
      "Epoch  7, CIFAR-10 Batch 5:  Loss: 0.3758540451526642, Accuracy: 0.673799991607666\n",
      "Epoch  8, CIFAR-10 Batch 1:  Loss: 0.42647072672843933, Accuracy: 0.6665999889373779\n",
      "Epoch  8, CIFAR-10 Batch 2:  Loss: 0.4086735248565674, Accuracy: 0.6592000126838684\n",
      "Epoch  8, CIFAR-10 Batch 3:  Loss: 0.3457546830177307, Accuracy: 0.676800012588501\n",
      "Epoch  8, CIFAR-10 Batch 4:  Loss: 0.36886700987815857, Accuracy: 0.6758000254631042\n",
      "Epoch  8, CIFAR-10 Batch 5:  Loss: 0.29485711455345154, Accuracy: 0.6845999956130981\n",
      "Epoch  9, CIFAR-10 Batch 1:  Loss: 0.3686876595020294, Accuracy: 0.6632000207901001\n",
      "Epoch  9, CIFAR-10 Batch 2:  Loss: 0.3572204113006592, Accuracy: 0.6754000186920166\n",
      "Epoch  9, CIFAR-10 Batch 3:  Loss: 0.31572192907333374, Accuracy: 0.6672000288963318\n",
      "Epoch  9, CIFAR-10 Batch 4:  Loss: 0.3139410614967346, Accuracy: 0.676800012588501\n",
      "Epoch  9, CIFAR-10 Batch 5:  Loss: 0.23549486696720123, Accuracy: 0.6930000185966492\n",
      "Epoch 10, CIFAR-10 Batch 1:  Loss: 0.2828533351421356, Accuracy: 0.6740000247955322\n",
      "Epoch 10, CIFAR-10 Batch 2:  Loss: 0.3140891194343567, Accuracy: 0.6638000011444092\n",
      "Epoch 10, CIFAR-10 Batch 3:  Loss: 0.2522652745246887, Accuracy: 0.6711999773979187\n",
      "Epoch 10, CIFAR-10 Batch 4:  Loss: 0.23619084060192108, Accuracy: 0.6845999956130981\n",
      "Epoch 10, CIFAR-10 Batch 5:  Loss: 0.19033890962600708, Accuracy: 0.6854000091552734\n",
      "Epoch 11, CIFAR-10 Batch 1:  Loss: 0.2457079291343689, Accuracy: 0.6603999733924866\n",
      "Epoch 11, CIFAR-10 Batch 2:  Loss: 0.22618946433067322, Accuracy: 0.678600013256073\n",
      "Epoch 11, CIFAR-10 Batch 3:  Loss: 0.21583238244056702, Accuracy: 0.6741999983787537\n",
      "Epoch 11, CIFAR-10 Batch 4:  Loss: 0.21371929347515106, Accuracy: 0.6790000200271606\n",
      "Epoch 11, CIFAR-10 Batch 5:  Loss: 0.17362749576568604, Accuracy: 0.6863999962806702\n",
      "Epoch 12, CIFAR-10 Batch 1:  Loss: 0.16148792207241058, Accuracy: 0.680400013923645\n",
      "Epoch 12, CIFAR-10 Batch 2:  Loss: 0.18115302920341492, Accuracy: 0.680400013923645\n",
      "Epoch 12, CIFAR-10 Batch 3:  Loss: 0.17585107684135437, Accuracy: 0.6705999970436096\n",
      "Epoch 12, CIFAR-10 Batch 4:  Loss: 0.15574751794338226, Accuracy: 0.6779999732971191\n",
      "Epoch 12, CIFAR-10 Batch 5:  Loss: 0.15691277384757996, Accuracy: 0.6779999732971191\n",
      "Epoch 13, CIFAR-10 Batch 1:  Loss: 0.12629421055316925, Accuracy: 0.6876000165939331\n",
      "Epoch 13, CIFAR-10 Batch 2:  Loss: 0.14176951348781586, Accuracy: 0.6904000043869019\n",
      "Epoch 13, CIFAR-10 Batch 3:  Loss: 0.12353870272636414, Accuracy: 0.6736000180244446\n",
      "Epoch 13, CIFAR-10 Batch 4:  Loss: 0.1684509515762329, Accuracy: 0.6664000153541565\n",
      "Epoch 13, CIFAR-10 Batch 5:  Loss: 0.1242900937795639, Accuracy: 0.6772000193595886\n",
      "Epoch 14, CIFAR-10 Batch 1:  Loss: 0.11712978780269623, Accuracy: 0.6801999807357788\n",
      "Epoch 14, CIFAR-10 Batch 2:  Loss: 0.13360659778118134, Accuracy: 0.6808000206947327\n",
      "Epoch 14, CIFAR-10 Batch 3:  Loss: 0.10350111126899719, Accuracy: 0.6754000186920166\n",
      "Epoch 14, CIFAR-10 Batch 4:  Loss: 0.1380590796470642, Accuracy: 0.6611999869346619\n",
      "Epoch 14, CIFAR-10 Batch 5:  Loss: 0.11325044929981232, Accuracy: 0.6733999848365784\n",
      "Epoch 15, CIFAR-10 Batch 1:  Loss: 0.09704164415597916, Accuracy: 0.6841999888420105\n",
      "Epoch 15, CIFAR-10 Batch 2:  Loss: 0.10457725822925568, Accuracy: 0.6840000152587891\n",
      "Epoch 15, CIFAR-10 Batch 3:  Loss: 0.08276941627264023, Accuracy: 0.6773999929428101\n",
      "Epoch 15, CIFAR-10 Batch 4:  Loss: 0.09031899273395538, Accuracy: 0.6845999956130981\n",
      "Epoch 15, CIFAR-10 Batch 5:  Loss: 0.08346255123615265, Accuracy: 0.6858000159263611\n",
      "Epoch 16, CIFAR-10 Batch 1:  Loss: 0.08854884654283524, Accuracy: 0.6832000017166138\n",
      "Epoch 16, CIFAR-10 Batch 2:  Loss: 0.10020311176776886, Accuracy: 0.6674000024795532\n",
      "Epoch 16, CIFAR-10 Batch 3:  Loss: 0.07616765797138214, Accuracy: 0.6782000064849854\n",
      "Epoch 16, CIFAR-10 Batch 4:  Loss: 0.06545217335224152, Accuracy: 0.6833999752998352\n",
      "Epoch 16, CIFAR-10 Batch 5:  Loss: 0.07252172380685806, Accuracy: 0.6819999814033508\n",
      "Epoch 17, CIFAR-10 Batch 1:  Loss: 0.05918283760547638, Accuracy: 0.6855999827384949\n",
      "Epoch 17, CIFAR-10 Batch 2:  Loss: 0.07968561351299286, Accuracy: 0.6679999828338623\n",
      "Epoch 17, CIFAR-10 Batch 3:  Loss: 0.06217183172702789, Accuracy: 0.6833999752998352\n",
      "Epoch 17, CIFAR-10 Batch 4:  Loss: 0.06904308497905731, Accuracy: 0.6700000166893005\n",
      "Epoch 17, CIFAR-10 Batch 5:  Loss: 0.04898139834403992, Accuracy: 0.6916000247001648\n",
      "Epoch 18, CIFAR-10 Batch 1:  Loss: 0.053753919899463654, Accuracy: 0.6844000220298767\n",
      "Epoch 18, CIFAR-10 Batch 2:  Loss: 0.06962745636701584, Accuracy: 0.673799991607666\n",
      "Epoch 18, CIFAR-10 Batch 3:  Loss: 0.04267796501517296, Accuracy: 0.6823999881744385\n",
      "Epoch 18, CIFAR-10 Batch 4:  Loss: 0.04592278227210045, Accuracy: 0.6801999807357788\n",
      "Epoch 18, CIFAR-10 Batch 5:  Loss: 0.032702744007110596, Accuracy: 0.6923999786376953\n",
      "Epoch 19, CIFAR-10 Batch 1:  Loss: 0.046235762536525726, Accuracy: 0.6797999739646912\n",
      "Epoch 19, CIFAR-10 Batch 2:  Loss: 0.045831725001335144, Accuracy: 0.6851999759674072\n",
      "Epoch 19, CIFAR-10 Batch 3:  Loss: 0.04272954910993576, Accuracy: 0.6725999712944031\n",
      "Epoch 19, CIFAR-10 Batch 4:  Loss: 0.040480367839336395, Accuracy: 0.6841999888420105\n",
      "Epoch 19, CIFAR-10 Batch 5:  Loss: 0.029434578493237495, Accuracy: 0.6891999840736389\n",
      "Epoch 20, CIFAR-10 Batch 1:  Loss: 0.04536956176161766, Accuracy: 0.6858000159263611\n",
      "Epoch 20, CIFAR-10 Batch 2:  Loss: 0.06245657429099083, Accuracy: 0.6901999711990356\n",
      "Epoch 20, CIFAR-10 Batch 3:  Loss: 0.027487948536872864, Accuracy: 0.6796000003814697\n",
      "Epoch 20, CIFAR-10 Batch 4:  Loss: 0.031363047659397125, Accuracy: 0.6808000206947327\n",
      "Epoch 20, CIFAR-10 Batch 5:  Loss: 0.01925828494131565, Accuracy: 0.6926000118255615\n",
      "Epoch 21, CIFAR-10 Batch 1:  Loss: 0.03324922174215317, Accuracy: 0.6845999956130981\n",
      "Epoch 21, CIFAR-10 Batch 2:  Loss: 0.027079446241259575, Accuracy: 0.6922000050544739\n",
      "Epoch 21, CIFAR-10 Batch 3:  Loss: 0.02658613584935665, Accuracy: 0.6883999705314636\n",
      "Epoch 21, CIFAR-10 Batch 4:  Loss: 0.02360575832426548, Accuracy: 0.6919999718666077\n",
      "Epoch 21, CIFAR-10 Batch 5:  Loss: 0.016558010131120682, Accuracy: 0.6908000111579895\n",
      "Epoch 22, CIFAR-10 Batch 1:  Loss: 0.024388613179326057, Accuracy: 0.698199987411499\n",
      "Epoch 22, CIFAR-10 Batch 2:  Loss: 0.028023475781083107, Accuracy: 0.6901999711990356\n",
      "Epoch 22, CIFAR-10 Batch 3:  Loss: 0.019987214356660843, Accuracy: 0.6908000111579895\n",
      "Epoch 22, CIFAR-10 Batch 4:  Loss: 0.018773075193166733, Accuracy: 0.6922000050544739\n",
      "Epoch 22, CIFAR-10 Batch 5:  Loss: 0.012111489661037922, Accuracy: 0.6904000043869019\n",
      "Epoch 23, CIFAR-10 Batch 1:  Loss: 0.015719426795840263, Accuracy: 0.6980000138282776\n",
      "Epoch 23, CIFAR-10 Batch 2:  Loss: 0.020830878987908363, Accuracy: 0.6958000063896179\n",
      "Epoch 23, CIFAR-10 Batch 3:  Loss: 0.017118077725172043, Accuracy: 0.6909999847412109\n",
      "Epoch 23, CIFAR-10 Batch 4:  Loss: 0.01466665230691433, Accuracy: 0.6966000199317932\n",
      "Epoch 23, CIFAR-10 Batch 5:  Loss: 0.019609062001109123, Accuracy: 0.6758000254631042\n",
      "Epoch 24, CIFAR-10 Batch 1:  Loss: 0.015847088769078255, Accuracy: 0.696399986743927\n",
      "Epoch 24, CIFAR-10 Batch 2:  Loss: 0.012925305403769016, Accuracy: 0.6923999786376953\n",
      "Epoch 24, CIFAR-10 Batch 3:  Loss: 0.013828441500663757, Accuracy: 0.6953999996185303\n",
      "Epoch 24, CIFAR-10 Batch 4:  Loss: 0.018501732498407364, Accuracy: 0.6866000294685364\n",
      "Epoch 24, CIFAR-10 Batch 5:  Loss: 0.009535005316138268, Accuracy: 0.6917999982833862\n",
      "Epoch 25, CIFAR-10 Batch 1:  Loss: 0.01601610705256462, Accuracy: 0.6949999928474426\n",
      "Epoch 25, CIFAR-10 Batch 2:  Loss: 0.013033869676291943, Accuracy: 0.6899999976158142\n",
      "Epoch 25, CIFAR-10 Batch 3:  Loss: 0.010329129174351692, Accuracy: 0.6899999976158142\n",
      "Epoch 25, CIFAR-10 Batch 4:  Loss: 0.010116687044501305, Accuracy: 0.6919999718666077\n",
      "Epoch 25, CIFAR-10 Batch 5:  Loss: 0.007756014354526997, Accuracy: 0.692799985408783\n"
     ]
    }
   ],
   "source": [
    "\"\"\"\n",
    "DON'T MODIFY ANYTHING IN THIS CELL\n",
    "\"\"\"\n",
    "save_model_path = './image_classification'\n",
    "\n",
    "print('Training...')\n",
    "with tf.Session() as sess:\n",
    "    # Initializing the variables\n",
    "    sess.run(tf.global_variables_initializer())\n",
    "    \n",
    "    # Training cycle\n",
    "    for epoch in range(epochs):\n",
    "        # Loop over all batches\n",
    "        n_batches = 5\n",
    "        for batch_i in range(1, n_batches + 1):\n",
    "            for batch_features, batch_labels in helper.load_preprocess_training_batch(batch_i, batch_size):\n",
    "                train_neural_network(sess, optimizer, keep_probability, batch_features, batch_labels)\n",
    "            print('Epoch {:>2}, CIFAR-10 Batch {}:  '.format(epoch + 1, batch_i), end='')\n",
    "            print_stats(sess, batch_features, batch_labels, cost, accuracy)\n",
    "            \n",
    "    # Save Model\n",
    "    saver = tf.train.Saver()\n",
    "    save_path = saver.save(sess, save_model_path)"
   ]
  },
  {
   "cell_type": "markdown",
   "metadata": {},
   "source": [
    "# Checkpoint\n",
    "The model has been saved to disk.\n",
    "## Test Model\n",
    "Test your model against the test dataset.  This will be your final accuracy. You should have an accuracy greater than 50%. If you don't, keep tweaking the model architecture and parameters."
   ]
  },
  {
   "cell_type": "code",
   "execution_count": 42,
   "metadata": {
    "collapsed": false
   },
   "outputs": [
    {
     "name": "stdout",
     "output_type": "stream",
     "text": [
      "INFO:tensorflow:Restoring parameters from ./image_classification\n",
      "Testing Accuracy: 0.6896771609783172\n",
      "\n"
     ]
    },
    {
     "data": {
      "image/png": "[encoded data removed]",
      "text/plain": [
       "<matplotlib.figure.Figure at 0x1147d9e10>"
      ]
     },
     "metadata": {
      "image/png": {
       "height": 319,
       "width": 355
      }
     },
     "output_type": "display_data"
    }
   ],
   "source": [
    "\"\"\"\n",
    "DON'T MODIFY ANYTHING IN THIS CELL\n",
    "\"\"\"\n",
    "%matplotlib inline\n",
    "%config InlineBackend.figure_format = 'retina'\n",
    "\n",
    "import tensorflow as tf\n",
    "import pickle\n",
    "import helper\n",
    "import random\n",
    "\n",
    "# Set batch size if not already set\n",
    "try:\n",
    "    if batch_size:\n",
    "        pass\n",
    "except NameError:\n",
    "    batch_size = 64\n",
    "\n",
    "save_model_path = './image_classification'\n",
    "n_samples = 4\n",
    "top_n_predictions = 3\n",
    "\n",
    "def test_model():\n",
    "    \"\"\"\n",
    "    Test the saved model against the test dataset\n",
    "    \"\"\"\n",
    "\n",
    "    test_features, test_labels = pickle.load(open('preprocess_training.p', mode='rb'))\n",
    "    loaded_graph = tf.Graph()\n",
    "\n",
    "    with tf.Session(graph=loaded_graph) as sess:\n",
    "        # Load model\n",
    "        loader = tf.train.import_meta_graph(save_model_path + '.meta')\n",
    "        loader.restore(sess, save_model_path)\n",
    "\n",
    "        # Get Tensors from loaded model\n",
    "        loaded_x = loaded_graph.get_tensor_by_name('x:0')\n",
    "        loaded_y = loaded_graph.get_tensor_by_name('y:0')\n",
    "        loaded_keep_prob = loaded_graph.get_tensor_by_name('keep_prob:0')\n",
    "        loaded_logits = loaded_graph.get_tensor_by_name('logits:0')\n",
    "        loaded_acc = loaded_graph.get_tensor_by_name('accuracy:0')\n",
    "        \n",
    "        # Get accuracy in batches for memory limitations\n",
    "        test_batch_acc_total = 0\n",
    "        test_batch_count = 0\n",
    "        \n",
    "        for train_feature_batch, train_label_batch in helper.batch_features_labels(test_features, test_labels, batch_size):\n",
    "            test_batch_acc_total += sess.run(\n",
    "                loaded_acc,\n",
    "                feed_dict={loaded_x: train_feature_batch, loaded_y: train_label_batch, loaded_keep_prob: 1.0})\n",
    "            test_batch_count += 1\n",
    "\n",
    "        print('Testing Accuracy: {}\\n'.format(test_batch_acc_total/test_batch_count))\n",
    "\n",
    "        # Print Random Samples\n",
    "        random_test_features, random_test_labels = tuple(zip(*random.sample(list(zip(test_features, test_labels)), n_samples)))\n",
    "        random_test_predictions = sess.run(\n",
    "            tf.nn.top_k(tf.nn.softmax(loaded_logits), top_n_predictions),\n",
    "            feed_dict={loaded_x: random_test_features, loaded_y: random_test_labels, loaded_keep_prob: 1.0})\n",
    "        helper.display_image_predictions(random_test_features, random_test_labels, random_test_predictions)\n",
    "\n",
    "\n",
    "test_model()"
   ]
  },
  {
   "cell_type": "markdown",
   "metadata": {},
   "source": [
    "## Why 50-80% Accuracy?\n",
    "You might be wondering why you can't get an accuracy any higher. First things first, 50% isn't bad for a simple CNN.  Pure guessing would get you 10% accuracy. That's because there are many more techniques that can be applied to your model and we recemmond that once you are done with this project, you explore!\n",
    "\n",
    "## Submitting This Project\n",
    "When submitting this project, make sure to run all the cells before saving the notebook.  Save the notebook file as \"image_classification.ipynb\" and save it as a HTML file under \"File\" -> \"Download as\".  Include the \"helper.py\" and \"problem_unittests.py\" files in your submission."
   ]
  },
  {
   "cell_type": "code",
   "execution_count": null,
   "metadata": {
    "collapsed": true
   },
   "outputs": [],
   "source": []
  }
 ],
 "metadata": {
  "kernelspec": {
   "display_name": "Python 3",
   "language": "python",
   "name": "python3"
  },
  "language_info": {
   "codemirror_mode": {
    "name": "ipython",
    "version": 3
   },
   "file_extension": ".py",
   "mimetype": "text/x-python",
   "name": "python",
   "nbconvert_exporter": "python",
   "pygments_lexer": "ipython3",
   "version": "3.4.2"
  }
 },
 "nbformat": 4,
 "nbformat_minor": 0
}
